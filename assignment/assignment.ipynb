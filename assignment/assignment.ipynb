{
  "cells": [
    {
      "cell_type": "markdown",
      "id": "13ad028b-72b7-43ed-aa78-96fd4e518040",
      "metadata": {
        "id": "13ad028b-72b7-43ed-aa78-96fd4e518040"
      },
      "source": [
        "# Assignment: Data Wrangling\n",
        "### `! git clone https://github.com/ds4e/wrangling`\n",
        "### Do Q1 and Q2, and either Q3 or Q4, for a total of 3 questions."
      ]
    },
    {
      "cell_type": "markdown",
      "id": "da879ea7-8aac-48a3-b6c2-daea56d2e072",
      "metadata": {
        "id": "da879ea7-8aac-48a3-b6c2-daea56d2e072"
      },
      "source": [
        "**Q1.** This question provides some practice cleaning variables which have common problems.\n",
        "1. Numeric variable: For `./data/airbnb_hw.csv`, clean the `Price` variable as well as you can, and explain the choices you make. How many missing values do you end up with? (Hint: What happens to the formatting when a price goes over 999 dollars, say from 675 to 1,112?)\n",
        "2. Categorical variable: For the Minnesota police use of for data, `./data/mn_police_use_of_force.csv`, clean the `subject_injury` variable, handling the NA's; this gives a value `Yes` when a person was injured by police, and `No` when no injury occurred. What proportion of the values are missing? Is this a concern? Cross-tabulate your cleaned `subject_injury` variable with the `force_type` variable. Are there any patterns regarding when the data are missing? \n",
        "3. Dummy variable: For the pretrial data covered in the lecture, clean the `WhetherDefendantWasReleasedPretrial` variable as well as you can, and, in particular, replace missing values with `np.nan`.\n",
        "4. Missing values, not at random: For the pretrial data covered in the lecture, clean the `ImposedSentenceAllChargeInContactEvent` variable as well as you can, and explain the choices you make. (Hint: Look at the `SentenceTypeAllChargesAtConvictionInContactEvent` variable.)"
      ]
    },
    {
      "cell_type": "code",
      "execution_count": 1,
      "id": "ec01746b",
      "metadata": {},
      "outputs": [],
      "source": [
        "import numpy as np\n",
        "import pandas as pd"
      ]
    },
    {
      "cell_type": "code",
      "execution_count": 2,
      "id": "15be6d67",
      "metadata": {},
      "outputs": [
        {
          "data": {
            "text/html": [
              "<div>\n",
              "<style scoped>\n",
              "    .dataframe tbody tr th:only-of-type {\n",
              "        vertical-align: middle;\n",
              "    }\n",
              "\n",
              "    .dataframe tbody tr th {\n",
              "        vertical-align: top;\n",
              "    }\n",
              "\n",
              "    .dataframe thead th {\n",
              "        text-align: right;\n",
              "    }\n",
              "</style>\n",
              "<table border=\"1\" class=\"dataframe\">\n",
              "  <thead>\n",
              "    <tr style=\"text-align: right;\">\n",
              "      <th></th>\n",
              "      <th>Host Id</th>\n",
              "      <th>Host Since</th>\n",
              "      <th>Name</th>\n",
              "      <th>Neighbourhood</th>\n",
              "      <th>Property Type</th>\n",
              "      <th>Review Scores Rating (bin)</th>\n",
              "      <th>Room Type</th>\n",
              "      <th>Zipcode</th>\n",
              "      <th>Beds</th>\n",
              "      <th>Number of Records</th>\n",
              "      <th>Number Of Reviews</th>\n",
              "      <th>Price</th>\n",
              "      <th>Review Scores Rating</th>\n",
              "    </tr>\n",
              "  </thead>\n",
              "  <tbody>\n",
              "    <tr>\n",
              "      <th>0</th>\n",
              "      <td>5162530</td>\n",
              "      <td>NaN</td>\n",
              "      <td>1 Bedroom in Prime Williamsburg</td>\n",
              "      <td>Brooklyn</td>\n",
              "      <td>Apartment</td>\n",
              "      <td>NaN</td>\n",
              "      <td>Entire home/apt</td>\n",
              "      <td>11249.0</td>\n",
              "      <td>1.0</td>\n",
              "      <td>1</td>\n",
              "      <td>0</td>\n",
              "      <td>145</td>\n",
              "      <td>NaN</td>\n",
              "    </tr>\n",
              "    <tr>\n",
              "      <th>1</th>\n",
              "      <td>33134899</td>\n",
              "      <td>NaN</td>\n",
              "      <td>Sunny, Private room in Bushwick</td>\n",
              "      <td>Brooklyn</td>\n",
              "      <td>Apartment</td>\n",
              "      <td>NaN</td>\n",
              "      <td>Private room</td>\n",
              "      <td>11206.0</td>\n",
              "      <td>1.0</td>\n",
              "      <td>1</td>\n",
              "      <td>1</td>\n",
              "      <td>37</td>\n",
              "      <td>NaN</td>\n",
              "    </tr>\n",
              "    <tr>\n",
              "      <th>2</th>\n",
              "      <td>39608626</td>\n",
              "      <td>NaN</td>\n",
              "      <td>Sunny Room in Harlem</td>\n",
              "      <td>Manhattan</td>\n",
              "      <td>Apartment</td>\n",
              "      <td>NaN</td>\n",
              "      <td>Private room</td>\n",
              "      <td>10032.0</td>\n",
              "      <td>1.0</td>\n",
              "      <td>1</td>\n",
              "      <td>1</td>\n",
              "      <td>28</td>\n",
              "      <td>NaN</td>\n",
              "    </tr>\n",
              "    <tr>\n",
              "      <th>3</th>\n",
              "      <td>500</td>\n",
              "      <td>6/26/2008</td>\n",
              "      <td>Gorgeous 1 BR with Private Balcony</td>\n",
              "      <td>Manhattan</td>\n",
              "      <td>Apartment</td>\n",
              "      <td>NaN</td>\n",
              "      <td>Entire home/apt</td>\n",
              "      <td>10024.0</td>\n",
              "      <td>3.0</td>\n",
              "      <td>1</td>\n",
              "      <td>0</td>\n",
              "      <td>199</td>\n",
              "      <td>NaN</td>\n",
              "    </tr>\n",
              "    <tr>\n",
              "      <th>4</th>\n",
              "      <td>500</td>\n",
              "      <td>6/26/2008</td>\n",
              "      <td>Trendy Times Square Loft</td>\n",
              "      <td>Manhattan</td>\n",
              "      <td>Apartment</td>\n",
              "      <td>95.0</td>\n",
              "      <td>Private room</td>\n",
              "      <td>10036.0</td>\n",
              "      <td>3.0</td>\n",
              "      <td>1</td>\n",
              "      <td>39</td>\n",
              "      <td>549</td>\n",
              "      <td>96.0</td>\n",
              "    </tr>\n",
              "  </tbody>\n",
              "</table>\n",
              "</div>"
            ],
            "text/plain": [
              "    Host Id Host Since                                Name Neighbourhood   \\\n",
              "0   5162530        NaN     1 Bedroom in Prime Williamsburg       Brooklyn   \n",
              "1  33134899        NaN     Sunny, Private room in Bushwick       Brooklyn   \n",
              "2  39608626        NaN                Sunny Room in Harlem      Manhattan   \n",
              "3       500  6/26/2008  Gorgeous 1 BR with Private Balcony      Manhattan   \n",
              "4       500  6/26/2008            Trendy Times Square Loft      Manhattan   \n",
              "\n",
              "  Property Type  Review Scores Rating (bin)        Room Type  Zipcode  Beds  \\\n",
              "0     Apartment                         NaN  Entire home/apt  11249.0   1.0   \n",
              "1     Apartment                         NaN     Private room  11206.0   1.0   \n",
              "2     Apartment                         NaN     Private room  10032.0   1.0   \n",
              "3     Apartment                         NaN  Entire home/apt  10024.0   3.0   \n",
              "4     Apartment                        95.0     Private room  10036.0   3.0   \n",
              "\n",
              "   Number of Records  Number Of Reviews Price  Review Scores Rating  \n",
              "0                  1                  0   145                   NaN  \n",
              "1                  1                  1    37                   NaN  \n",
              "2                  1                  1    28                   NaN  \n",
              "3                  1                  0   199                   NaN  \n",
              "4                  1                 39   549                  96.0  "
            ]
          },
          "execution_count": 2,
          "metadata": {},
          "output_type": "execute_result"
        }
      ],
      "source": [
        "airbnb_df = pd.read_csv('./data/airbnb_hw.csv')\n",
        "\n",
        "# previewing the dataset, seeing what columns\n",
        "# and data types we are working with \n",
        "airbnb_df.head(5) "
      ]
    },
    {
      "cell_type": "code",
      "execution_count": 25,
      "id": "2e109e61",
      "metadata": {},
      "outputs": [
        {
          "data": {
            "text/plain": [
              "array(['145', '37', '28', '199', '549', '149', '250', '90', '270', '290',\n",
              "       '170', '59', '49', '68', '285', '75', '100', '150', '700', '125',\n",
              "       '175', '40', '89', '95', '99', '499', '120', '79', '110', '180',\n",
              "       '143', '230', '350', '135', '85', '60', '70', '55', '44', '200',\n",
              "       '165', '115', '74', '84', '129', '50', '185', '80', '190', '140',\n",
              "       '45', '65', '225', '600', '109', '1,990', '73', '240', '72', '105',\n",
              "       '155', '160', '42', '132', '117', '295', '280', '159', '107', '69',\n",
              "       '239', '220', '399', '130', '375', '585', '275', '139', '260',\n",
              "       '35', '133', '300', '289', '179', '98', '195', '29', '27', '39',\n",
              "       '249', '192', '142', '169', '1,000', '131', '138', '113', '122',\n",
              "       '329', '101', '475', '238', '272', '308', '126', '235', '315',\n",
              "       '248', '128', '56', '207', '450', '215', '210', '385', '445',\n",
              "       '136', '247', '118', '77', '76', '92', '198', '205', '299', '222',\n",
              "       '245', '104', '153', '349', '114', '320', '292', '226', '420',\n",
              "       '500', '325', '307', '78', '265', '108', '123', '189', '32', '58',\n",
              "       '86', '219', '800', '335', '63', '229', '425', '67', '87', '1,200',\n",
              "       '158', '650', '234', '310', '695', '400', '166', '119', '62',\n",
              "       '168', '340', '479', '43', '395', '144', '52', '47', '529', '187',\n",
              "       '209', '233', '82', '269', '163', '172', '305', '156', '550',\n",
              "       '435', '137', '124', '48', '279', '330', '5,000', '134', '378',\n",
              "       '97', '277', '64', '193', '147', '186', '264', '30', '3,000',\n",
              "       '112', '94', '379', '57', '415', '236', '410', '214', '88', '66',\n",
              "       '71', '171', '157', '545', '1,500', '83', '96', '1,800', '81',\n",
              "       '188', '380', '255', '505', '54', '33', '174', '93', '740', '640',\n",
              "       '1,300', '440', '599', '357', '1,239', '495', '127', '5,999',\n",
              "       '178', '348', '152', '242', '183', '253', '750', '259', '365',\n",
              "       '273', '197', '397', '103', '389', '355', '559', '38', '203',\n",
              "       '999', '141', '162', '333', '698', '46', '360', '895', '10', '41',\n",
              "       '206', '281', '449', '388', '212', '102', '201', '2,750', '4,750',\n",
              "       '432', '675', '167', '390', '298', '339', '194', '302', '211',\n",
              "       '595', '191', '53', '361', '480', '8,000', '4,500', '459', '997',\n",
              "       '345', '216', '218', '111', '735', '276', '91', '490', '850',\n",
              "       '398', '36', '775', '267', '625', '336', '2,500', '176', '725',\n",
              "       '3,750', '469', '106', '460', '287', '575', '227', '263', '25',\n",
              "       '228', '208', '177', '880', '148', '116', '685', '470', '217',\n",
              "       '164', '61', '645', '699', '405', '252', '319', '268', '419',\n",
              "       '343', '525', '311', '840', '154', '294', '950', '409', '184',\n",
              "       '257', '204', '241', '2,000', '412', '121', '288', '196', '900',\n",
              "       '647', '524', '1,750', '309', '510', '1,495', '1,700', '799',\n",
              "       '383', '372', '492', '327', '1,999', '656', '224', '173', '875',\n",
              "       '1,170', '795', '690', '146', '465', '1,100', '151', '274', '429',\n",
              "       '825', '282', '256', '1,111', '620', '271', '161', '51', '855',\n",
              "       '579', '1,174', '430', '20', '899', '649', '485', '181', '455',\n",
              "       '4,000', '243', '342', '590', '560', '374', '437', '232', '359',\n",
              "       '985', '31', '244', '254', '723', '237', '428', '370', '34',\n",
              "       '1,400', '580', '2,520', '221', '749', '1,600', '2,695', '306',\n",
              "       '202', '680', '570', '520', '223', '2,295', '213', '1,065', '346',\n",
              "       '24', '286', '296', '266', '26', '995', '1,368', '393', '182',\n",
              "       '635', '258', '780', '589', '347', '1,250', '1,350', '446',\n",
              "       '3,200', '1,050', '1,650', '1,550', '975', '323', '6,500', '2,499',\n",
              "       '1,850', '2,250', '715', '461', '540', '356', '439', '384', '569',\n",
              "       '1,900', '22', '785', '626', '830', '318', '444', '321', '401',\n",
              "       '1,499', '888', '369', '770', '386', '366', '344', '630', '313',\n",
              "       '597', '262', '509', '10,000', '278', '312', '789', '1,195', '422',\n",
              "       '21', '765', '3,500', '945', '326', '3,100', '2,486', '3,390',\n",
              "       '1,356', '2,599', '472', '454', '328', '396', '291'], dtype=object)"
            ]
          },
          "execution_count": 25,
          "metadata": {},
          "output_type": "execute_result"
        }
      ],
      "source": [
        "# taking a closer look at the Price column values:\n",
        "airbnb_df['Price'].unique()"
      ]
    },
    {
      "cell_type": "code",
      "execution_count": 3,
      "id": "aac7ac58",
      "metadata": {},
      "outputs": [
        {
          "name": "stdout",
          "output_type": "stream",
          "text": [
            "There are 0 missing values in the price column.\n",
            "There are 0 NaN values in the price column.\n"
          ]
        }
      ],
      "source": [
        "# checking if there are any Na and NaN values in the Price column\n",
        "missing_price = airbnb_df['Price'].isna().sum()\n",
        "print(f\"There are {missing_price} missing values in the price column.\")\n",
        "\n",
        "no_nan_price = airbnb_df['Price'].isnull().sum()\n",
        "print(f\"There are {no_nan_price} NaN values in the price column.\")"
      ]
    },
    {
      "cell_type": "markdown",
      "id": "c21a9b28",
      "metadata": {},
      "source": [
        "There are no missing values in the price column."
      ]
    },
    {
      "cell_type": "markdown",
      "id": "66b2ef42",
      "metadata": {},
      "source": [
        "The *Price* column has values which turn into strings once they surpass 999. They have a comma added to it which is causing the dtype to return ' dtype = object ' since Pandas is detecting both numerical and object types. To fix this, I need to remove the ' , ' from all values and make sure they are read as numeric."
      ]
    },
    {
      "cell_type": "code",
      "execution_count": 27,
      "id": "1da56220",
      "metadata": {},
      "outputs": [
        {
          "name": "stdout",
          "output_type": "stream",
          "text": [
            "0\n"
          ]
        }
      ],
      "source": [
        "# converting the price column to numeric:\n",
        "\n",
        "# first converting everything to strings, since using 'str.replace' will not work\n",
        "# on numeric, float, or mixed datatypes, only works with strings\n",
        "airbnb_df['Price'] = airbnb_df['Price'].astype(str)\n",
        "\n",
        "# removing ',' and casting price to be numeric \n",
        "airbnb_df['Price'] = airbnb_df['Price'].str.replace(',', '')\n",
        "airbnb_df['Price'] = pd.to_numeric(airbnb_df['Price'], errors = 'coerce') #forcing other values to be na \n",
        "\n",
        "# verifying commas have been removed\n",
        "nan_mask = np.isnan(airbnb_df['Price'])\n",
        "print(nan_mask.sum())\n"
      ]
    },
    {
      "cell_type": "code",
      "execution_count": 28,
      "id": "cd42de5d",
      "metadata": {},
      "outputs": [
        {
          "data": {
            "text/plain": [
              "array([  145,    37,    28,   199,   549,   149,   250,    90,   270,\n",
              "         290,   170,    59,    49,    68,   285,    75,   100,   150,\n",
              "         700,   125,   175,    40,    89,    95,    99,   499,   120,\n",
              "          79,   110,   180,   143,   230,   350,   135,    85,    60,\n",
              "          70,    55,    44,   200,   165,   115,    74,    84,   129,\n",
              "          50,   185,    80,   190,   140,    45,    65,   225,   600,\n",
              "         109,  1990,    73,   240,    72,   105,   155,   160,    42,\n",
              "         132,   117,   295,   280,   159,   107,    69,   239,   220,\n",
              "         399,   130,   375,   585,   275,   139,   260,    35,   133,\n",
              "         300,   289,   179,    98,   195,    29,    27,    39,   249,\n",
              "         192,   142,   169,  1000,   131,   138,   113,   122,   329,\n",
              "         101,   475,   238,   272,   308,   126,   235,   315,   248,\n",
              "         128,    56,   207,   450,   215,   210,   385,   445,   136,\n",
              "         247,   118,    77,    76,    92,   198,   205,   299,   222,\n",
              "         245,   104,   153,   349,   114,   320,   292,   226,   420,\n",
              "         500,   325,   307,    78,   265,   108,   123,   189,    32,\n",
              "          58,    86,   219,   800,   335,    63,   229,   425,    67,\n",
              "          87,  1200,   158,   650,   234,   310,   695,   400,   166,\n",
              "         119,    62,   168,   340,   479,    43,   395,   144,    52,\n",
              "          47,   529,   187,   209,   233,    82,   269,   163,   172,\n",
              "         305,   156,   550,   435,   137,   124,    48,   279,   330,\n",
              "        5000,   134,   378,    97,   277,    64,   193,   147,   186,\n",
              "         264,    30,  3000,   112,    94,   379,    57,   415,   236,\n",
              "         410,   214,    88,    66,    71,   171,   157,   545,  1500,\n",
              "          83,    96,  1800,    81,   188,   380,   255,   505,    54,\n",
              "          33,   174,    93,   740,   640,  1300,   440,   599,   357,\n",
              "        1239,   495,   127,  5999,   178,   348,   152,   242,   183,\n",
              "         253,   750,   259,   365,   273,   197,   397,   103,   389,\n",
              "         355,   559,    38,   203,   999,   141,   162,   333,   698,\n",
              "          46,   360,   895,    10,    41,   206,   281,   449,   388,\n",
              "         212,   102,   201,  2750,  4750,   432,   675,   167,   390,\n",
              "         298,   339,   194,   302,   211,   595,   191,    53,   361,\n",
              "         480,  8000,  4500,   459,   997,   345,   216,   218,   111,\n",
              "         735,   276,    91,   490,   850,   398,    36,   775,   267,\n",
              "         625,   336,  2500,   176,   725,  3750,   469,   106,   460,\n",
              "         287,   575,   227,   263,    25,   228,   208,   177,   880,\n",
              "         148,   116,   685,   470,   217,   164,    61,   645,   699,\n",
              "         405,   252,   319,   268,   419,   343,   525,   311,   840,\n",
              "         154,   294,   950,   409,   184,   257,   204,   241,  2000,\n",
              "         412,   121,   288,   196,   900,   647,   524,  1750,   309,\n",
              "         510,  1495,  1700,   799,   383,   372,   492,   327,  1999,\n",
              "         656,   224,   173,   875,  1170,   795,   690,   146,   465,\n",
              "        1100,   151,   274,   429,   825,   282,   256,  1111,   620,\n",
              "         271,   161,    51,   855,   579,  1174,   430,    20,   899,\n",
              "         649,   485,   181,   455,  4000,   243,   342,   590,   560,\n",
              "         374,   437,   232,   359,   985,    31,   244,   254,   723,\n",
              "         237,   428,   370,    34,  1400,   580,  2520,   221,   749,\n",
              "        1600,  2695,   306,   202,   680,   570,   520,   223,  2295,\n",
              "         213,  1065,   346,    24,   286,   296,   266,    26,   995,\n",
              "        1368,   393,   182,   635,   258,   780,   589,   347,  1250,\n",
              "        1350,   446,  3200,  1050,  1650,  1550,   975,   323,  6500,\n",
              "        2499,  1850,  2250,   715,   461,   540,   356,   439,   384,\n",
              "         569,  1900,    22,   785,   626,   830,   318,   444,   321,\n",
              "         401,  1499,   888,   369,   770,   386,   366,   344,   630,\n",
              "         313,   597,   262,   509, 10000,   278,   312,   789,  1195,\n",
              "         422,    21,   765,  3500,   945,   326,  3100,  2486,  3390,\n",
              "        1356,  2599,   472,   454,   328,   396,   291])"
            ]
          },
          "execution_count": 28,
          "metadata": {},
          "output_type": "execute_result"
        }
      ],
      "source": [
        "# previewing column once again\n",
        "airbnb_df['Price'].unique()"
      ]
    },
    {
      "cell_type": "markdown",
      "id": "e143e0b7",
      "metadata": {},
      "source": [
        "**Q1.2** Categorical variable: For the Minnesota police use of for data, `./data/mn_police_use_of_force.csv`, clean the `subject_injury` variable, handling the NA's; this gives a value `Yes` when a person was injured by police, and `No` when no injury occurred. What proportion of the values are missing? Is this a concern? Cross-tabulate your cleaned `subject_injury` variable with the `force_type` variable. Are there any patterns regarding when the data are missing? "
      ]
    },
    {
      "cell_type": "code",
      "execution_count": 29,
      "id": "bb64cba1",
      "metadata": {},
      "outputs": [
        {
          "data": {
            "text/html": [
              "<div>\n",
              "<style scoped>\n",
              "    .dataframe tbody tr th:only-of-type {\n",
              "        vertical-align: middle;\n",
              "    }\n",
              "\n",
              "    .dataframe tbody tr th {\n",
              "        vertical-align: top;\n",
              "    }\n",
              "\n",
              "    .dataframe thead th {\n",
              "        text-align: right;\n",
              "    }\n",
              "</style>\n",
              "<table border=\"1\" class=\"dataframe\">\n",
              "  <thead>\n",
              "    <tr style=\"text-align: right;\">\n",
              "      <th></th>\n",
              "      <th>response_datetime</th>\n",
              "      <th>problem</th>\n",
              "      <th>is_911_call</th>\n",
              "      <th>primary_offense</th>\n",
              "      <th>subject_injury</th>\n",
              "      <th>force_type</th>\n",
              "      <th>force_type_action</th>\n",
              "      <th>race</th>\n",
              "      <th>sex</th>\n",
              "      <th>age</th>\n",
              "      <th>type_resistance</th>\n",
              "      <th>precinct</th>\n",
              "      <th>neighborhood</th>\n",
              "    </tr>\n",
              "  </thead>\n",
              "  <tbody>\n",
              "    <tr>\n",
              "      <th>0</th>\n",
              "      <td>2016/01/01 00:47:36</td>\n",
              "      <td>Assault in Progress</td>\n",
              "      <td>Yes</td>\n",
              "      <td>DASLT1</td>\n",
              "      <td>NaN</td>\n",
              "      <td>Bodily Force</td>\n",
              "      <td>Body Weight to Pin</td>\n",
              "      <td>Black</td>\n",
              "      <td>Male</td>\n",
              "      <td>20.0</td>\n",
              "      <td>Tensed</td>\n",
              "      <td>1</td>\n",
              "      <td>Downtown East</td>\n",
              "    </tr>\n",
              "    <tr>\n",
              "      <th>1</th>\n",
              "      <td>2016/01/01 02:19:34</td>\n",
              "      <td>Fight</td>\n",
              "      <td>No</td>\n",
              "      <td>DISCON</td>\n",
              "      <td>NaN</td>\n",
              "      <td>Chemical Irritant</td>\n",
              "      <td>Personal Mace</td>\n",
              "      <td>Black</td>\n",
              "      <td>Female</td>\n",
              "      <td>27.0</td>\n",
              "      <td>Verbal Non-Compliance</td>\n",
              "      <td>1</td>\n",
              "      <td>Downtown West</td>\n",
              "    </tr>\n",
              "    <tr>\n",
              "      <th>2</th>\n",
              "      <td>2016/01/01 02:19:34</td>\n",
              "      <td>Fight</td>\n",
              "      <td>No</td>\n",
              "      <td>DISCON</td>\n",
              "      <td>NaN</td>\n",
              "      <td>Chemical Irritant</td>\n",
              "      <td>Personal Mace</td>\n",
              "      <td>White</td>\n",
              "      <td>Female</td>\n",
              "      <td>23.0</td>\n",
              "      <td>Verbal Non-Compliance</td>\n",
              "      <td>1</td>\n",
              "      <td>Downtown West</td>\n",
              "    </tr>\n",
              "    <tr>\n",
              "      <th>3</th>\n",
              "      <td>2016/01/01 02:28:48</td>\n",
              "      <td>Fight</td>\n",
              "      <td>No</td>\n",
              "      <td>PRIORI</td>\n",
              "      <td>NaN</td>\n",
              "      <td>Chemical Irritant</td>\n",
              "      <td>Crowd Control Mace</td>\n",
              "      <td>Black</td>\n",
              "      <td>Male</td>\n",
              "      <td>20.0</td>\n",
              "      <td>Commission of Crime</td>\n",
              "      <td>1</td>\n",
              "      <td>Downtown West</td>\n",
              "    </tr>\n",
              "    <tr>\n",
              "      <th>4</th>\n",
              "      <td>2016/01/01 02:28:48</td>\n",
              "      <td>Fight</td>\n",
              "      <td>No</td>\n",
              "      <td>PRIORI</td>\n",
              "      <td>NaN</td>\n",
              "      <td>Chemical Irritant</td>\n",
              "      <td>Crowd Control Mace</td>\n",
              "      <td>Black</td>\n",
              "      <td>Male</td>\n",
              "      <td>20.0</td>\n",
              "      <td>Commission of Crime</td>\n",
              "      <td>1</td>\n",
              "      <td>Downtown West</td>\n",
              "    </tr>\n",
              "  </tbody>\n",
              "</table>\n",
              "</div>"
            ],
            "text/plain": [
              "     response_datetime               problem is_911_call primary_offense  \\\n",
              "0  2016/01/01 00:47:36  Assault in Progress          Yes          DASLT1   \n",
              "1  2016/01/01 02:19:34                Fight           No          DISCON   \n",
              "2  2016/01/01 02:19:34                Fight           No          DISCON   \n",
              "3  2016/01/01 02:28:48                Fight           No          PRIORI   \n",
              "4  2016/01/01 02:28:48                Fight           No          PRIORI   \n",
              "\n",
              "  subject_injury         force_type   force_type_action   race     sex   age  \\\n",
              "0            NaN       Bodily Force  Body Weight to Pin  Black    Male  20.0   \n",
              "1            NaN  Chemical Irritant       Personal Mace  Black  Female  27.0   \n",
              "2            NaN  Chemical Irritant       Personal Mace  White  Female  23.0   \n",
              "3            NaN  Chemical Irritant  Crowd Control Mace  Black    Male  20.0   \n",
              "4            NaN  Chemical Irritant  Crowd Control Mace  Black    Male  20.0   \n",
              "\n",
              "         type_resistance  precinct   neighborhood  \n",
              "0                 Tensed         1  Downtown East  \n",
              "1  Verbal Non-Compliance         1  Downtown West  \n",
              "2  Verbal Non-Compliance         1  Downtown West  \n",
              "3    Commission of Crime         1  Downtown West  \n",
              "4    Commission of Crime         1  Downtown West  "
            ]
          },
          "execution_count": 29,
          "metadata": {},
          "output_type": "execute_result"
        }
      ],
      "source": [
        "# importing dataset\n",
        "MN_police_data = pd.read_csv('./data/mn_police_use_of_force.csv')\n",
        "MN_police_data.head(5)"
      ]
    },
    {
      "cell_type": "code",
      "execution_count": 30,
      "id": "b0281c2e",
      "metadata": {},
      "outputs": [
        {
          "name": "stdout",
          "output_type": "stream",
          "text": [
            "0\n",
            "The proportion of missing values for the subject_inquiry is 76.19%\n"
          ]
        }
      ],
      "source": [
        "# cleaning subject_inquiry column: replacing the Na values with 'unknown' as a placeholder\n",
        "MN_police_data['subject_injury'] = MN_police_data['subject_injury'].fillna('Unknown')\n",
        "print(MN_police_data['subject_injury'].isna().sum())\n",
        "\n",
        "# finding the proportion of 'unknown' or missing values within the subject_inquiry column\n",
        "missing_proportion = MN_police_data['subject_injury'].value_counts(normalize = True)['Unknown']\n",
        "print(f\"The proportion of missing values for the subject_inquiry is {missing_proportion:.2%}\")\n"
      ]
    },
    {
      "cell_type": "markdown",
      "id": "5f4ac822",
      "metadata": {},
      "source": [
        "The proportion of missing values is quite high, being about 76% of the column. This raises questions as to why subjects either chose not to respond, or if there was a disparity as to what could be classified as police brutality. The proportion being this high is indicative of further questioning or different forms of data collection, as such a large majority not responding or not being represented is worth looking into."
      ]
    },
    {
      "cell_type": "code",
      "execution_count": 31,
      "id": "72c289ab",
      "metadata": {},
      "outputs": [
        {
          "name": "stdout",
          "output_type": "stream",
          "text": [
            "force_type      Baton  Bodily Force  Chemical Irritant  Firearm  \\\n",
            "subject_injury                                                    \n",
            "No                  0          1093                131        2   \n",
            "Unknown             2          7051               1421        0   \n",
            "Yes                 2          1286                 41        0   \n",
            "\n",
            "force_type      Gun Point Display  Improvised Weapon  Less Lethal  \\\n",
            "subject_injury                                                      \n",
            "No                             33                 34            0   \n",
            "Unknown                        27                 74           87   \n",
            "Yes                            44                 40            0   \n",
            "\n",
            "force_type      Less Lethal Projectile  Maximal Restraint Technique  \\\n",
            "subject_injury                                                        \n",
            "No                                   1                            0   \n",
            "Unknown                              0                          170   \n",
            "Yes                                  2                            0   \n",
            "\n",
            "force_type      Police K9 Bite  Taser  \n",
            "subject_injury                         \n",
            "No                           2    150  \n",
            "Unknown                     31    985  \n",
            "Yes                         44    172  \n"
          ]
        }
      ],
      "source": [
        "# cross tabulating 'subject_inquiry' with 'force_type'\n",
        "cross_tab = pd.crosstab(MN_police_data['subject_injury'], MN_police_data['force_type'])\n",
        "print(cross_tab)"
      ]
    },
    {
      "cell_type": "markdown",
      "id": "553bb54b",
      "metadata": {},
      "source": [
        "The crosstable shows that the large majority of 'unknown' values from the dataset came from individuals and their experience with 'Bodily Force' within the 'force_type' column. About 7000 out of the 12000 total observations had a Na or 'unknown' were missing values in line with the 'Bodily Harm' attribute, depicting a large discrepnancy between the two. The pattern could be indicative of either data collection issues or potential biases during the recording process (or both). "
      ]
    },
    {
      "cell_type": "markdown",
      "id": "62a8847f",
      "metadata": {},
      "source": [
        "**Q1.3** Dummy variable: For the pretrial data covered in the lecture, clean the `WhetherDefendantWasReleasedPretrial` variable as well as you can, and, in particular, replace missing values with `np.nan`."
      ]
    },
    {
      "cell_type": "code",
      "execution_count": 32,
      "id": "baac08d7",
      "metadata": {},
      "outputs": [
        {
          "name": "stdout",
          "output_type": "stream",
          "text": [
            "[9 0 1]\n",
            "There are 31 observations of 9\n",
            "There are 31 values missing in 'WhetherDefendantWasReleasedPretrial' column.\n",
            "0    NaN\n",
            "1    0.0\n",
            "2    0.0\n",
            "3    0.0\n",
            "4    1.0\n",
            "5    0.0\n",
            "6    1.0\n",
            "7    1.0\n",
            "8    0.0\n",
            "9    1.0\n",
            "Name: WhetherDefendantWasReleasedPretrial, dtype: float64\n",
            "Unique values: [nan  0.  1.]\n"
          ]
        },
        {
          "data": {
            "text/plain": [
              "0    NaN\n",
              "1    0.0\n",
              "2    0.0\n",
              "3    0.0\n",
              "4    1.0\n",
              "5    0.0\n",
              "6    1.0\n",
              "7    1.0\n",
              "8    0.0\n",
              "9    1.0\n",
              "Name: WhetherDefendantWasReleasedPretrial, dtype: float64"
            ]
          },
          "execution_count": 32,
          "metadata": {},
          "output_type": "execute_result"
        }
      ],
      "source": [
        "url = 'http://www.vcsc.virginia.gov/pretrialdataproject/October%202017%20Cohort_Virginia%20Pretrial%20Data%20Project_Deidentified%20FINAL%20Update_10272021.csv'\n",
        "df = pd.read_csv(url,low_memory=False) # Pandas downloads and loads the .csv file for you\n",
        "\n",
        "# checking to see the unique values\n",
        "print(df['WhetherDefendantWasReleasedPretrial'].unique())\n",
        "\n",
        "# checking to see how many records contain 9: 9 is an odd value to have here since the rest of the values are binary\n",
        "# will treat 9 as an outlier and mark it with np.nan\n",
        "nine_count = (df['WhetherDefendantWasReleasedPretrial'] == 9).sum()\n",
        "print(f\"There are {nine_count} observations of 9\")\n",
        "\n",
        "# replacing outlier value of 9 with np.nan\n",
        "df['WhetherDefendantWasReleasedPretrial'] = df['WhetherDefendantWasReleasedPretrial'].replace(9, np.nan)\n",
        "\n",
        "# counting NaN/missing values\n",
        "missing_pretrial = df['WhetherDefendantWasReleasedPretrial'].isna().sum() # No 'Na' values reported\n",
        "print(f\"There are {missing_pretrial} values missing in 'WhetherDefendantWasReleasedPretrial' column.\")\n",
        "\n",
        "# replacing any Na or NaN values with np.nan to ensure they're marked\n",
        "df['WhetherDefendantWasReleasedPretrial'] = df['WhetherDefendantWasReleasedPretrial'].replace(to_replace=[None, '', '?'], value = np.nan)\n",
        "print(df['WhetherDefendantWasReleasedPretrial'].head(10))\n",
        "\n",
        "# verifying 9 was marked with np.nan\n",
        "unique_values = df['WhetherDefendantWasReleasedPretrial'].unique()\n",
        "print(f\"Unique values: {unique_values}\")\n",
        "\n",
        "# previewing the cleaned column\n",
        "df['WhetherDefendantWasReleasedPretrial'].head(10)"
      ]
    },
    {
      "cell_type": "markdown",
      "id": "aafc8b65",
      "metadata": {},
      "source": [
        "**Q1.4** Missing values, not at random: For the pretrial data covered in the lecture, clean the `ImposedSentenceAllChargeInContactEvent` variable as well as you can, and explain the choices you make. (Hint: Look at the `SentenceTypeAllChargesAtConvictionInContactEvent` variable.)"
      ]
    },
    {
      "cell_type": "code",
      "execution_count": 33,
      "id": "5e21f7ef",
      "metadata": {},
      "outputs": [
        {
          "name": "stdout",
          "output_type": "stream",
          "text": [
            "object\n",
            "There are 9053 NaN values.\n"
          ]
        },
        {
          "data": {
            "text/plain": [
              "0                 NaN\n",
              "1                  60\n",
              "2                  12\n",
              "3    .985626283367556\n",
              "4                 NaN\n",
              "Name: ImposedSentenceAllChargeInContactEvent, dtype: object"
            ]
          },
          "execution_count": 33,
          "metadata": {},
          "output_type": "execute_result"
        }
      ],
      "source": [
        "# checking data type:\n",
        "data_type = df['ImposedSentenceAllChargeInContactEvent'].dtype\n",
        "print(data_type)\n",
        "\n",
        "#looking at other values through .unique()\n",
        "unique_contact = df['ImposedSentenceAllChargeInContactEvent'].unique()\n",
        "# print(unique_contact)\n",
        "\n",
        "# since dtype returned 'object', we have a mix of strings and integers.\n",
        "# using str.strip() to remove blank spaces\n",
        "# replacing the empty spaces with NaN using np.nan\n",
        "df['ImposedSentenceAllChargeInContactEvent'] = df['ImposedSentenceAllChargeInContactEvent'].str.strip()\n",
        "df['ImposedSentenceAllChargeInContactEvent'] = df['ImposedSentenceAllChargeInContactEvent'].replace(to_replace = [None, '', '?'], value = np.nan)\n",
        "\n",
        "# counting missing values\n",
        "missing_contact = df['ImposedSentenceAllChargeInContactEvent'].isna().sum()\n",
        "print(f\"There are {missing_contact} NaN values.\")\n",
        "\n",
        "# checking to see if NaN replacement worked\n",
        "df['ImposedSentenceAllChargeInContactEvent'].head(5)"
      ]
    },
    {
      "cell_type": "markdown",
      "id": "5a60a44e",
      "metadata": {},
      "source": [
        "**Q2.** Go to https://sharkattackfile.net/ and download their dataset on shark attacks.\n",
        "\n",
        "1. Open the shark attack file using Pandas. It is probably not a csv file, so `read_csv` won't work.\n",
        "2. Drop any columns that do not contain data.\n",
        "3. Clean the year variable. Describe the range of values you see. Filter the rows to focus on attacks since 1940. Are attacks increasing, decreasing, or remaining constant over time?\n",
        "4. Clean the Age variable and make a histogram of the ages of the victims.\n",
        "5. What proportion of victims are male?\n",
        "6. Clean the `Type` variable so it only takes three values: Provoked and Unprovoked and Unknown. What proportion of attacks are unprovoked?\n",
        "7. Clean the `Fatal Y/N` variable so it only takes three values: Y, N, and Unknown.\n",
        "8. Are sharks more likely to launch unprovoked attacks on men or women? Is the attack more or less likely to be fatal when the attack is provoked or unprovoked? Is it more or less likely to be fatal when the victim is male or female? How do you feel about sharks?\n",
        "9. What proportion of attacks appear to be by white sharks? (Hint: `str.split()` makes a vector of text values into a list of lists, split by spaces.)"
      ]
    },
    {
      "cell_type": "code",
      "execution_count": 34,
      "id": "699bc310",
      "metadata": {},
      "outputs": [
        {
          "data": {
            "text/plain": [
              "Index(['Date', 'Year', 'Type', 'Country', 'State', 'Location', 'Activity',\n",
              "       'Name', 'Sex', 'Age', 'Injury', 'Fatal Y/N', 'Time', 'Species ',\n",
              "       'Source', 'pdf', 'href formula', 'href', 'Case Number', 'Case Number.1',\n",
              "       'original order', 'Unnamed: 21', 'Unnamed: 22'],\n",
              "      dtype='object')"
            ]
          },
          "execution_count": 34,
          "metadata": {},
          "output_type": "execute_result"
        }
      ],
      "source": [
        "# importing dataset:\n",
        "import matplotlib.pyplot as plt\n",
        "\n",
        "shark_data = './data/GSAf5.xls'\n",
        "df_sharks = pd.read_excel(shark_data)\n",
        "\n",
        "df_sharks.head(5)\n",
        "df_sharks.columns"
      ]
    },
    {
      "cell_type": "code",
      "execution_count": 35,
      "id": "775ed712",
      "metadata": {},
      "outputs": [
        {
          "data": {
            "text/html": [
              "<div>\n",
              "<style scoped>\n",
              "    .dataframe tbody tr th:only-of-type {\n",
              "        vertical-align: middle;\n",
              "    }\n",
              "\n",
              "    .dataframe tbody tr th {\n",
              "        vertical-align: top;\n",
              "    }\n",
              "\n",
              "    .dataframe thead th {\n",
              "        text-align: right;\n",
              "    }\n",
              "</style>\n",
              "<table border=\"1\" class=\"dataframe\">\n",
              "  <thead>\n",
              "    <tr style=\"text-align: right;\">\n",
              "      <th></th>\n",
              "      <th>Date</th>\n",
              "      <th>Year</th>\n",
              "      <th>Type</th>\n",
              "      <th>Country</th>\n",
              "      <th>State</th>\n",
              "      <th>Location</th>\n",
              "      <th>Activity</th>\n",
              "      <th>Name</th>\n",
              "      <th>Sex</th>\n",
              "      <th>Age</th>\n",
              "      <th>...</th>\n",
              "      <th>Species</th>\n",
              "      <th>Source</th>\n",
              "      <th>pdf</th>\n",
              "      <th>href formula</th>\n",
              "      <th>href</th>\n",
              "      <th>Case Number</th>\n",
              "      <th>Case Number.1</th>\n",
              "      <th>original order</th>\n",
              "      <th>Unnamed: 21</th>\n",
              "      <th>Unnamed: 22</th>\n",
              "    </tr>\n",
              "  </thead>\n",
              "  <tbody>\n",
              "    <tr>\n",
              "      <th>0</th>\n",
              "      <td>2025-01-23 00:00:00</td>\n",
              "      <td>2025.0</td>\n",
              "      <td>Unprovoked</td>\n",
              "      <td>Australia</td>\n",
              "      <td>Western Australia</td>\n",
              "      <td>Shipwreck Cove</td>\n",
              "      <td>Bathing</td>\n",
              "      <td>Boy</td>\n",
              "      <td>M</td>\n",
              "      <td>12</td>\n",
              "      <td>...</td>\n",
              "      <td>Not stated</td>\n",
              "      <td>Bob Myatt GSAF</td>\n",
              "      <td>NaN</td>\n",
              "      <td>NaN</td>\n",
              "      <td>NaN</td>\n",
              "      <td>NaN</td>\n",
              "      <td>NaN</td>\n",
              "      <td>NaN</td>\n",
              "      <td>NaN</td>\n",
              "      <td>NaN</td>\n",
              "    </tr>\n",
              "    <tr>\n",
              "      <th>1</th>\n",
              "      <td>2025-01-22 00:00:00</td>\n",
              "      <td>2025.0</td>\n",
              "      <td>Unprovoked</td>\n",
              "      <td>Australia</td>\n",
              "      <td>Western Australia</td>\n",
              "      <td>Cheynes beach</td>\n",
              "      <td>Surfing</td>\n",
              "      <td>Dale Kittow</td>\n",
              "      <td>M</td>\n",
              "      <td>37</td>\n",
              "      <td>...</td>\n",
              "      <td>Bronze whaler</td>\n",
              "      <td>Bob Myatt GSAF</td>\n",
              "      <td>NaN</td>\n",
              "      <td>NaN</td>\n",
              "      <td>NaN</td>\n",
              "      <td>NaN</td>\n",
              "      <td>NaN</td>\n",
              "      <td>NaN</td>\n",
              "      <td>NaN</td>\n",
              "      <td>NaN</td>\n",
              "    </tr>\n",
              "    <tr>\n",
              "      <th>2</th>\n",
              "      <td>2025-01-11 00:00:00</td>\n",
              "      <td>2025.0</td>\n",
              "      <td>Provoked</td>\n",
              "      <td>USA</td>\n",
              "      <td>Hawaii</td>\n",
              "      <td>Off Haleiwa Boat Harbour Oahu</td>\n",
              "      <td>Diving</td>\n",
              "      <td>Male not stated was a dive tour worker</td>\n",
              "      <td>M</td>\n",
              "      <td>23</td>\n",
              "      <td>...</td>\n",
              "      <td>Not stated</td>\n",
              "      <td>Kevin McMurray Trackingsharks.com</td>\n",
              "      <td>NaN</td>\n",
              "      <td>NaN</td>\n",
              "      <td>NaN</td>\n",
              "      <td>NaN</td>\n",
              "      <td>NaN</td>\n",
              "      <td>NaN</td>\n",
              "      <td>NaN</td>\n",
              "      <td>NaN</td>\n",
              "    </tr>\n",
              "    <tr>\n",
              "      <th>3</th>\n",
              "      <td>2025-01-02 00:00:00</td>\n",
              "      <td>2025.0</td>\n",
              "      <td>Unprovoked</td>\n",
              "      <td>New Caledonia</td>\n",
              "      <td>Grande Terre</td>\n",
              "      <td>Islet of Kendek near Koumac</td>\n",
              "      <td>Spearfishing</td>\n",
              "      <td>Robert Cuewapuru</td>\n",
              "      <td>M</td>\n",
              "      <td>40</td>\n",
              "      <td>...</td>\n",
              "      <td>Reportedly Tiger or Bull shark</td>\n",
              "      <td>Johannes Marchand Todd Smith</td>\n",
              "      <td>NaN</td>\n",
              "      <td>NaN</td>\n",
              "      <td>NaN</td>\n",
              "      <td>NaN</td>\n",
              "      <td>NaN</td>\n",
              "      <td>NaN</td>\n",
              "      <td>NaN</td>\n",
              "      <td>NaN</td>\n",
              "    </tr>\n",
              "    <tr>\n",
              "      <th>4</th>\n",
              "      <td>2025-01-02 00:00:00</td>\n",
              "      <td>2025.0</td>\n",
              "      <td>Unprovoked</td>\n",
              "      <td>Australia</td>\n",
              "      <td>South Australia</td>\n",
              "      <td>Granites Beach near Westall Streaky Bay</td>\n",
              "      <td>Surfing</td>\n",
              "      <td>Lance Appleby</td>\n",
              "      <td>M</td>\n",
              "      <td>28</td>\n",
              "      <td>...</td>\n",
              "      <td>Great White Shart estimated 4.8m 16 ft</td>\n",
              "      <td>Glen Folkard: Simon De Marchi News.com.au: The...</td>\n",
              "      <td>NaN</td>\n",
              "      <td>NaN</td>\n",
              "      <td>NaN</td>\n",
              "      <td>NaN</td>\n",
              "      <td>NaN</td>\n",
              "      <td>NaN</td>\n",
              "      <td>NaN</td>\n",
              "      <td>NaN</td>\n",
              "    </tr>\n",
              "  </tbody>\n",
              "</table>\n",
              "<p>5 rows × 23 columns</p>\n",
              "</div>"
            ],
            "text/plain": [
              "                  Date    Year        Type        Country              State  \\\n",
              "0  2025-01-23 00:00:00  2025.0  Unprovoked      Australia  Western Australia   \n",
              "1  2025-01-22 00:00:00  2025.0  Unprovoked      Australia  Western Australia   \n",
              "2  2025-01-11 00:00:00  2025.0    Provoked            USA             Hawaii   \n",
              "3  2025-01-02 00:00:00  2025.0  Unprovoked  New Caledonia       Grande Terre   \n",
              "4  2025-01-02 00:00:00  2025.0  Unprovoked      Australia    South Australia   \n",
              "\n",
              "                                  Location      Activity  \\\n",
              "0                           Shipwreck Cove       Bathing   \n",
              "1                           Cheynes beach        Surfing   \n",
              "2            Off Haleiwa Boat Harbour Oahu        Diving   \n",
              "3              Islet of Kendek near Koumac  Spearfishing   \n",
              "4  Granites Beach near Westall Streaky Bay       Surfing   \n",
              "\n",
              "                                     Name Sex Age  ...  \\\n",
              "0                                    Boy    M  12  ...   \n",
              "1                             Dale Kittow   M  37  ...   \n",
              "2  Male not stated was a dive tour worker   M  23  ...   \n",
              "3                        Robert Cuewapuru   M  40  ...   \n",
              "4                           Lance Appleby   M  28  ...   \n",
              "\n",
              "                                 Species   \\\n",
              "0                              Not stated   \n",
              "1                           Bronze whaler   \n",
              "2                              Not stated   \n",
              "3          Reportedly Tiger or Bull shark   \n",
              "4  Great White Shart estimated 4.8m 16 ft   \n",
              "\n",
              "                                              Source  pdf href formula href  \\\n",
              "0                                     Bob Myatt GSAF  NaN          NaN  NaN   \n",
              "1                                     Bob Myatt GSAF  NaN          NaN  NaN   \n",
              "2                  Kevin McMurray Trackingsharks.com  NaN          NaN  NaN   \n",
              "3                      Johannes Marchand Todd Smith   NaN          NaN  NaN   \n",
              "4  Glen Folkard: Simon De Marchi News.com.au: The...  NaN          NaN  NaN   \n",
              "\n",
              "  Case Number Case Number.1 original order Unnamed: 21 Unnamed: 22  \n",
              "0         NaN           NaN            NaN         NaN         NaN  \n",
              "1         NaN           NaN            NaN         NaN         NaN  \n",
              "2         NaN           NaN            NaN         NaN         NaN  \n",
              "3         NaN           NaN            NaN         NaN         NaN  \n",
              "4         NaN           NaN            NaN         NaN         NaN  \n",
              "\n",
              "[5 rows x 23 columns]"
            ]
          },
          "execution_count": 35,
          "metadata": {},
          "output_type": "execute_result"
        }
      ],
      "source": [
        "# 2. Dropping all columns that contain empty values:\n",
        "#   - using the .dropna method to remomve columns which only contain NaN values\n",
        "\n",
        "df_sharks.dropna(axis = 1, how = 'all', inplace = True)\n",
        "df_sharks.head(5)"
      ]
    },
    {
      "cell_type": "code",
      "execution_count": 36,
      "id": "4e2f8edb",
      "metadata": {},
      "outputs": [
        {
          "name": "stdout",
          "output_type": "stream",
          "text": [
            "There are 2 values missing from the column 'Year'.\n",
            "Trend:               Year  original order\n",
            "count  5458.000000     5268.000000\n",
            "mean   1991.937156     4165.775626\n",
            "std      24.083712     1521.433279\n",
            "min    1940.000000     1531.000000\n",
            "25%    1969.000000     2848.750000\n",
            "50%    2000.000000     4165.500000\n",
            "75%    2013.000000     5482.250000\n",
            "max    2026.000000     6802.000000\n"
          ]
        },
        {
          "data": {
            "text/plain": [
              "Year\n",
              "1940.0    24\n",
              "1941.0    27\n",
              "1942.0    41\n",
              "1943.0    28\n",
              "1944.0    31\n",
              "Name: count, dtype: int64"
            ]
          },
          "execution_count": 36,
          "metadata": {},
          "output_type": "execute_result"
        }
      ],
      "source": [
        "# 3. Clean the year variable. Describe the range of values you see. \n",
        "# Filter the rows to focus on attacks since 1940.\n",
        "#   Are the attacks increasing, decreasing, or remaining constant\n",
        "#   over time?\n",
        "\n",
        "\n",
        "# converting all values to numeric, those that aren't will be NaN\n",
        "df_sharks['Year'] = pd.to_numeric(df_sharks['Year'], errors = 'coerce')\n",
        "print(f\"There are {df_sharks['Year'].isna().sum()} values missing from the column 'Year'.\")\n",
        "range_of_year = df_sharks['Year'].describe\n",
        "\n",
        "# looking at attacks from 1940 and onwards\n",
        "attacks_since_1940 = df_sharks[df_sharks['Year'] >= 1940]\n",
        "trend_since_1940 = attacks_since_1940.describe()\n",
        "print(f\"Trend: {trend_since_1940}\")\n",
        "\n",
        "# looking at the trend\n",
        "attacks_per_year = attacks_since_1940['Year'].value_counts().sort_index()\n",
        "attacks_per_year.head(5)\n",
        "\n"
      ]
    },
    {
      "cell_type": "code",
      "execution_count": 37,
      "id": "5a0cbb71",
      "metadata": {},
      "outputs": [
        {
          "name": "stdout",
          "output_type": "stream",
          "text": [
            "There are 3131 number of missing values in the 'Age' column.\n"
          ]
        },
        {
          "data": {
            "image/png": "[encoded data removed]",
            "text/plain": [
              "<Figure size 640x480 with 1 Axes>"
            ]
          },
          "metadata": {},
          "output_type": "display_data"
        }
      ],
      "source": [
        "# 4. Clean the Age variable and make a histogram of the ages of the victims\n",
        "\n",
        "# cleaning Age column: converting to numeric type and summing missing values\n",
        "df_sharks['Age'] = pd.to_numeric(df_sharks['Age'], errors = 'coerce')\n",
        "age_missing_sharks = df_sharks['Age'].isna().sum()\n",
        "print(f\"There are {age_missing_sharks} number of missing values in the 'Age' column.\")\n",
        "\n",
        "# dropping na values so we can plot:\n",
        "ages_plot = df_sharks['Age'].dropna()\n",
        "\n",
        "# plotting histogram:\n",
        "plt.hist(ages_plot, bins = 10, color = '#3D3B8E')\n",
        "plt.xlabel(xlabel = \"Age (Years)\")\n",
        "plt.ylabel(ylabel = \"Number of Attacks\")\n",
        "plt.title(\"20 Year Olds Most at Risk for Shark Attacks\", weight = 'bold')\n",
        "plt.show()"
      ]
    },
    {
      "cell_type": "code",
      "execution_count": 39,
      "id": "4fb7fb63",
      "metadata": {},
      "outputs": [
        {
          "name": "stdout",
          "output_type": "stream",
          "text": [
            "Male Proportion: 0.8752533915484173\n"
          ]
        }
      ],
      "source": [
        "# 5. What proportion of victims are male?\n",
        "male_proportion = df_sharks['Sex'].value_counts(normalize = True).get('M', 0)\n",
        "print(f\"Male Proportion: {male_proportion}\")"
      ]
    },
    {
      "cell_type": "code",
      "execution_count": 48,
      "id": "e2320b01",
      "metadata": {},
      "outputs": [
        {
          "name": "stdout",
          "output_type": "stream",
          "text": [
            "Proportion of Unprovoked Attacks: 0.7369851258581236\n",
            "['Unprovoked' 'Provoked' 'Unknown']\n"
          ]
        }
      ],
      "source": [
        "# 6. Clean the 'Type' variable so it only takes three values:\n",
        "# provoked, unprovoked, and unknown. What proportion of attacks are unprovoked?\n",
        "\n",
        "# looking at current possible values\n",
        "df_sharks['Type'].unique()\n",
        "\n",
        "# creating mapping to allocate the other columns to 'unknown'\n",
        "type_mapping = {\n",
        "    'Provoked': 'Provoked',\n",
        "    ' Provoked': 'Provoked',\n",
        "    'Unprovoked': 'Unprovoked',\n",
        "    'Questionable':  'Unknown',\n",
        "    'Watercraft': 'Unknown',\n",
        "    'Sea Disaster': 'Unknown',\n",
        "    np.nan: 'Unknown',\n",
        "    '?': 'Unknown', \n",
        "    'Unconfirmed': 'Unknown', \n",
        "    'Unverified': 'Unknown', \n",
        "    'Invalid': 'Unknown', \n",
        "    'Under investigation': 'Unknown',\n",
        "    'Boat': 'Unknown', \n",
        "}\n",
        "\n",
        "# applying the mapping to a new var that will store the data\n",
        "only_3_Type = df_sharks['Type'].map(type_mapping).fillna(\"Unknown\")\n",
        "\n",
        "# finding proportion of unprovoked attacks\n",
        "unprovoked_attacks_proportion = only_3_Type.value_counts(normalize = True).get('Unprovoked', 0)\n",
        "\n",
        "# verifying 3 outputs are correct and printing out the proportion:\n",
        "print(f\"Proportion of Unprovoked Attacks: {unprovoked_attacks_proportion}\")\n",
        "print(f\"{only_3_Type.unique()}\")"
      ]
    },
    {
      "cell_type": "code",
      "execution_count": 51,
      "id": "a5cae62a",
      "metadata": {},
      "outputs": [
        {
          "name": "stdout",
          "output_type": "stream",
          "text": [
            "['N' 'Y' 'Unknown']\n"
          ]
        }
      ],
      "source": [
        "# 7. Clean the 'Fatal Y/N' variable so it only takes three values: Y, N, and Unknown.\n",
        "df_sharks['Fatal Y/N'].unique()\n",
        "fatal_mapping = {\n",
        "    'N': 'N',\n",
        "    'Y': 'Y', \n",
        "    'UNKNOWN': 'Unknown', \n",
        "    'F': 'Unknown',\n",
        "    'M': 'Unknown',\n",
        "    np.nan: 'Unknown',\n",
        "    'n': 'N',\n",
        "    'Nq': 'Unknown',\n",
        "    '2017': 'Unknown',\n",
        "    'Y x 2': 'Unknown',\n",
        "    ' N': 'N', \n",
        "    'N ': 'N',\n",
        "    'y': 'Y',\n",
        "}\n",
        "\n",
        "only_3_fatal = df_sharks['Fatal Y/N'].map(fatal_mapping).fillna(\"Unknown\")\n",
        "print(only_3_fatal.unique())"
      ]
    },
    {
      "cell_type": "code",
      "execution_count": 58,
      "id": "13507163",
      "metadata": {},
      "outputs": [
        {
          "name": "stdout",
          "output_type": "stream",
          "text": [
            "The proportion of unprovoked shark attacks targetting males: 0.8647943831494483\n",
            "The proportion of unprovoked shark attacks targetting females: 0.13440320962888666\n"
          ]
        }
      ],
      "source": [
        "# 8. Are sharks more likely to launch unprovoked attacks on men or women?\n",
        "Unprovoked_Attacks = df_sharks[df_sharks['Type'] == 'Unprovoked']\n",
        "\n",
        "# filtering out the unprovoked_attacks for each sex:\n",
        "male_unprovoked_proportion = Unprovoked_Attacks['Sex'].value_counts(normalize = True).get('M', 0)\n",
        "female_unprovoked_proportion = Unprovoked_Attacks['Sex'].value_counts(normalize = True).get('F', 0)\n",
        "\n",
        "# printing out results\n",
        "print(f\"The proportion of unprovoked shark attacks targetting males: {male_unprovoked_proportion}\")\n",
        "print(f\"The proportion of unprovoked shark attacks targetting females: {female_unprovoked_proportion}\")"
      ]
    },
    {
      "cell_type": "markdown",
      "id": "15b3cd21",
      "metadata": {},
      "source": [
        "Based on the results, it appears that males are more likely to be involved in an unprovoked shark attack. The proportion of males involved in in unprovoked shark attacks is about 0.86 while females make up about 0.14 of the remaining attacks."
      ]
    },
    {
      "cell_type": "code",
      "execution_count": 67,
      "id": "f9251cf2",
      "metadata": {},
      "outputs": [
        {
          "name": "stdout",
          "output_type": "stream",
          "text": [
            "Proportion of attacks by white sharks: 0.16671017140868355\n"
          ]
        }
      ],
      "source": [
        "# 9. What proportion of attacks appear to be by white sharks?\n",
        "\n",
        "# Determine the proportion of attacks by white sharks\n",
        "df_sharks['Species '] = df_sharks['Species '].str.lower()\n",
        "\n",
        "# filtering for records with any indication of 'white shark' within the records:\n",
        "white_shark_attacks = df_sharks[df_sharks['Species '].str.contains('white shark', na=False)]\n",
        "proportion_white_shark = len(white_shark_attacks) / len(df)\n",
        "\n",
        "print(f\"Proportion of attacks by white sharks: {proportion_white_shark}\")"
      ]
    },
    {
      "cell_type": "markdown",
      "id": "5735a4d4-8be8-433a-a351-70eb8002e632",
      "metadata": {
        "id": "5735a4d4-8be8-433a-a351-70eb8002e632"
      },
      "source": [
        "**Q3.** Open the \"tidy_data.pdf\" document in the repo, which is a paper called Tidy Data by Hadley Wickham.\n",
        "\n",
        "  1. **Read the abstract. What is this paper about?** \\\n",
        "   The paper is about learning and understanding the idea behind *data tyding*. Prepping data for cleaning by ensuring that each observation is its own row and that each column is its own variable. The abstract mentions how keeping data structures organized and clean can help assist with manipulation and comparison when utilizing the data since we end up using a smaller set of tools.\n",
        "  2. **Read the introduction. What is the \"tidy data standard\" intended to accomplish?** \\\n",
        "   Data tyding helps limit/reduce the amount of operations we have to use when operating on data. It's intended to help eliminate the need to reinstate a new plan for organizing the data, it can be used over and over again for datasets. It aims to help simplify the work and energy spent between translating the data between one tool to another, therefore allowing us to focus on the main part without having to pay much attention to the other logistics that come with the data.\n",
        "  3. **Read the intro to section 2. What does this sentence mean: \"Like families, tidy datasets are all alike but every messy dataset is messy in its own way.\"** \\\n",
        "   Each dataset may have its own problems - missing data, errors in labeling, etc. For each dataset, we have to sort through and understand what may need mending before using it to run analysis/computations. Once tidy, the datasets are more similar now in terms of their structure and foundation. In terms of family, they may look more traditional now: tidy datasets are similar in their structural makeup which allows us to easily run computations and compare. \\\n",
        "  **3a.** **What does this sentence mean: \"For a given dataset, it’s usually easy to figure out what are observations and what are variables, but it is surprisingly difficult to precisely define variables and observations in general.\"**\n",
        "   Looking at a dataset, we may be able to pinpoint that rows are observations and that columns are variables. However, when looking at specific datasets we have to be wary of which factors would provide us a clear representation of what we are comparing and what patterns we are attempting to uncover/represent. We must consider the dataset with its original context as well as the context behind what we hope to show with the data.\n",
        "  4. **Read Section 2.2. How does Wickham define values, variables, and observations?**\n",
        "   Values are either numbers (if the dataset is quantitative), or strings (if the dataset is qualitative). Each value is part of a variable and an observation. A variable looks into the common attribute lying underneath multiple observations, while observations take into account all values for that specific unit.\n",
        "  5. **How is \"Tidy Data\" defined in section 2.3?**\n",
        "   Tidy Data is considered as the standard or foundational structure for datasets. Data can be considered tidy if each variable forms a column, if each observation forms a row, and each type of observational unit forms a table.\n",
        "  6. **Read the intro to Section 3 and Section 3.1. What are the 5 most common problems with messy datasets? Why are the data in Table 4 messy? What is \"melting\" a dataset?**\n",
        "   The five most common problems with messy datasets are: \n",
        "   -  The column headers start with values and not the variable name\n",
        "   -  There are multiple variables stored in one column\n",
        "   -  Variables are stored in both rows and columns\n",
        "   -  Multiple types of observational unites are stored in the same table\n",
        "   -  A single observational unit is stored in multiple tables \n",
        "   \\\n",
        "   Melting is when we turn columns into rows, or essentially are lengthening or widening datasets. \n",
        "  7. **Why, specifically, is table 11 messy but table 12 tidy and \"molten\"?**\n",
        "   Table 11 is messy because each column is representative of a new day, when it should be reversed. Additionally the 'element' column contains two variables within it: tmax and tmin. Separating those into two separate columns and replacing the values with it then results in each variable being its own distinct column with its respective value in an easy to read fashion which is exactly what table 12 does.\n",
        "  8. **Read Section 6. What is the \"chicken-and-egg\" problem with focusing on tidy data? What does Wickham hope happens in the future with further work on the subject of data wrangling?**\n",
        "   Tidy data is bound by the same tools we use to make/clean it. The data and its respective formation are interrelated, which makes it difficult to break out of its mold. Wickham hopes for others to be able to continue developing and innovate new methods of storage strategies. He also hopes for new methodologies from fields regarding data collection and analysis to improve and allow us to design more appropriate tools."
      ]
    },
    {
      "cell_type": "markdown",
      "id": "649494cd-cfd6-4f80-992a-9994fc19e1d5",
      "metadata": {
        "id": "649494cd-cfd6-4f80-992a-9994fc19e1d5"
      },
      "source": [
        "**Q4.** Many important datasets contain a race variable, typically limited to a handful of values often including Black, White, Asian, Latino, and Indigenous. This question looks at data gathering efforts on this variable by the U.S. Federal government.\n",
        "\n",
        "1. How did the most recent US Census gather data on race?\n",
        "2. Why do we gather these data? What role do these kinds of data play in politics and society? Why does data quality matter?\n",
        "3. Please provide a constructive criticism of how the Census was conducted: What was done well? What do you think was missing? How should future large scale surveys be adjusted to best reflect the diversity of the population? Could some of the Census' good practices be adopted more widely to gather richer and more useful data?\n",
        "4. How did the Census gather data on sex and gender? Please provide a similar constructive criticism of their practices.\n",
        "5. When it comes to cleaning data, what concerns do you have about protected characteristics like sex, gender, sexual identity, or race? What challenges can you imagine arising when there are missing values? What good or bad practices might people adopt, and why?\n",
        "6. Suppose someone invented an algorithm to impute values for protected characteristics like race, gender, sex, or sexuality. What kinds of concerns would you have?"
      ]
    }
  ],
  "metadata": {
    "colab": {
      "provenance": []
    },
    "kernelspec": {
      "display_name": "Python 3 (ipykernel)",
      "language": "python",
      "name": "python3"
    },
    "language_info": {
      "codemirror_mode": {
        "name": "ipython",
        "version": 3
      },
      "file_extension": ".py",
      "mimetype": "text/x-python",
      "name": "python",
      "nbconvert_exporter": "python",
      "pygments_lexer": "ipython3",
      "version": "3.11.5"
    }
  },
  "nbformat": 4,
  "nbformat_minor": 5
}
